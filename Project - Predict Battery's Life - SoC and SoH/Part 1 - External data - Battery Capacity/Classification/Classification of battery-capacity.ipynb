{
  "cells": [
    {
      "cell_type": "code",
      "execution_count": null,
      "metadata": {
        "id": "tANpRSmWWgll"
      },
      "outputs": [],
      "source": [
        "'''\n",
        "Cycle 1 and Cycle 10 \n",
        "\n",
        "Method - variance\n",
        "classification by Logistic, Decision Trees, Random Forest, Naives Bayes \n",
        "\n",
        "Training on - batch 2 + batch 3\n",
        "\n",
        "Prediction on - batch 1\n",
        "\n",
        "'''"
      ]
    },
    {
      "cell_type": "markdown",
      "metadata": {
        "id": "5degkrS1Wgln"
      },
      "source": [
        "# Library"
      ]
    },
    {
      "cell_type": "code",
      "execution_count": null,
      "metadata": {
        "id": "hSdyaWoZWglp"
      },
      "outputs": [],
      "source": [
        "import pandas as pd\n",
        "import numpy as np\n",
        "import glob\n",
        "import matplotlib.pyplot as plt\n",
        "\n",
        "from sklearn.model_selection import train_test_split\n",
        "from sklearn.linear_model import LogisticRegression\n",
        "from sklearn.tree import DecisionTreeClassifier # Import Decision Tree Classifier\n",
        "from sklearn.metrics import classification_report\n",
        "from sklearn.ensemble import RandomForestClassifier\n",
        "\n",
        "from sklearn import metrics #Import scikit-learn metrics module for accuracy calculation\n",
        "from sklearn.metrics import mean_absolute_error, mean_squared_error\n",
        "from sklearn.metrics import accuracy_score"
      ]
    },
    {
      "cell_type": "markdown",
      "metadata": {
        "id": "7SU0g2QOWglr"
      },
      "source": [
        "# batch 1"
      ]
    },
    {
      "cell_type": "code",
      "execution_count": null,
      "metadata": {
        "id": "MfK2SCPpWglr",
        "outputId": "03e156d6-089e-4cd7-e522-fceb400f5642"
      },
      "outputs": [
        {
          "name": "stdout",
          "output_type": "stream",
          "text": [
            "(46, 4)\n"
          ]
        },
        {
          "data": {
            "text/html": [
              "<div>\n",
              "<style scoped>\n",
              "    .dataframe tbody tr th:only-of-type {\n",
              "        vertical-align: middle;\n",
              "    }\n",
              "\n",
              "    .dataframe tbody tr th {\n",
              "        vertical-align: top;\n",
              "    }\n",
              "\n",
              "    .dataframe thead th {\n",
              "        text-align: right;\n",
              "    }\n",
              "</style>\n",
              "<table border=\"1\" class=\"dataframe\">\n",
              "  <thead>\n",
              "    <tr style=\"text-align: right;\">\n",
              "      <th></th>\n",
              "      <th>var_dis_cap</th>\n",
              "      <th>cycle_life</th>\n",
              "    </tr>\n",
              "  </thead>\n",
              "  <tbody>\n",
              "    <tr>\n",
              "      <th>count</th>\n",
              "      <td>46.000000</td>\n",
              "      <td>46.000000</td>\n",
              "    </tr>\n",
              "    <tr>\n",
              "      <th>mean</th>\n",
              "      <td>-1.033069</td>\n",
              "      <td>2.916675</td>\n",
              "    </tr>\n",
              "    <tr>\n",
              "      <th>std</th>\n",
              "      <td>0.060395</td>\n",
              "      <td>0.094409</td>\n",
              "    </tr>\n",
              "    <tr>\n",
              "      <th>min</th>\n",
              "      <td>-1.128489</td>\n",
              "      <td>2.727541</td>\n",
              "    </tr>\n",
              "    <tr>\n",
              "      <th>25%</th>\n",
              "      <td>-1.079806</td>\n",
              "      <td>2.847110</td>\n",
              "    </tr>\n",
              "    <tr>\n",
              "      <th>50%</th>\n",
              "      <td>-1.028547</td>\n",
              "      <td>2.933740</td>\n",
              "    </tr>\n",
              "    <tr>\n",
              "      <th>75%</th>\n",
              "      <td>-1.001214</td>\n",
              "      <td>2.961059</td>\n",
              "    </tr>\n",
              "    <tr>\n",
              "      <th>max</th>\n",
              "      <td>-0.873374</td>\n",
              "      <td>3.088845</td>\n",
              "    </tr>\n",
              "  </tbody>\n",
              "</table>\n",
              "</div>"
            ],
            "text/plain": [
              "       var_dis_cap  cycle_life\n",
              "count    46.000000   46.000000\n",
              "mean     -1.033069    2.916675\n",
              "std       0.060395    0.094409\n",
              "min      -1.128489    2.727541\n",
              "25%      -1.079806    2.847110\n",
              "50%      -1.028547    2.933740\n",
              "75%      -1.001214    2.961059\n",
              "max      -0.873374    3.088845"
            ]
          },
          "execution_count": 3,
          "metadata": {},
          "output_type": "execute_result"
        }
      ],
      "source": [
        "batch1 = pd.read_csv('cl_variance_batch1.csv')\n",
        "batch1 = batch1[['name', 'var_dis_cap', 'cycle_life']]\n",
        "        \n",
        "# deleted 2 outliers \n",
        "# batch1 = batch1[batch1['var_dis_cap'] <(-0.6)]  \n",
        "# batch1 = batch1[batch1['var_dis_cap'] > (-1.145)]\n",
        "# batch1['class'] = np.where(batch1['cycle_life'] >=2.93, 'High','Low')\n",
        "\n",
        "batch1['class'] = batch1['cycle_life'].apply(lambda x: 'high' if x>=2.933740  else 'low')\n",
        "\n",
        "print(batch1.shape)\n",
        "batch1.describe()"
      ]
    },
    {
      "cell_type": "code",
      "execution_count": null,
      "metadata": {
        "id": "s1JcgFVSWgls"
      },
      "outputs": [],
      "source": [
        "x1 = batch1['var_dis_cap']\n",
        "y1 = batch1['class']\n",
        "\n",
        "# plt.figure(figsize=(20,10))\n",
        "# plt.scatter(x1, y1)\n",
        "\n",
        "# z1 = np.polyfit(x1, y1, 1)\n",
        "# p1 = np.poly1d(z1)\n",
        "\n",
        "# print(p1) #trendline 0.8893 x + 3.832 for batch 1 after removing two outliers\n",
        "\n",
        "# plt.plot(x1,p1(x1),\"r--\")\n",
        "# # Turn on the grid\n",
        "# plt.grid(b=True, which='major', color='#666666', linestyle='-')\n",
        "# # plt.yscale('log')\n",
        "# # plt.xscale('log')\n",
        "\n",
        "# plt.show()"
      ]
    },
    {
      "cell_type": "markdown",
      "metadata": {
        "id": "2oA6EwA2Wglt"
      },
      "source": [
        "# batch 2"
      ]
    },
    {
      "cell_type": "code",
      "execution_count": null,
      "metadata": {
        "id": "MTvutTIwWglu",
        "outputId": "61326fae-2b08-42ee-aaa4-7d5066cf67d0"
      },
      "outputs": [
        {
          "name": "stdout",
          "output_type": "stream",
          "text": [
            "(49, 4)\n"
          ]
        },
        {
          "data": {
            "text/html": [
              "<div>\n",
              "<style scoped>\n",
              "    .dataframe tbody tr th:only-of-type {\n",
              "        vertical-align: middle;\n",
              "    }\n",
              "\n",
              "    .dataframe tbody tr th {\n",
              "        vertical-align: top;\n",
              "    }\n",
              "\n",
              "    .dataframe thead th {\n",
              "        text-align: right;\n",
              "    }\n",
              "</style>\n",
              "<table border=\"1\" class=\"dataframe\">\n",
              "  <thead>\n",
              "    <tr style=\"text-align: right;\">\n",
              "      <th></th>\n",
              "      <th>var_dis_cap</th>\n",
              "      <th>cycle_life</th>\n",
              "    </tr>\n",
              "  </thead>\n",
              "  <tbody>\n",
              "    <tr>\n",
              "      <th>count</th>\n",
              "      <td>49.000000</td>\n",
              "      <td>49.000000</td>\n",
              "    </tr>\n",
              "    <tr>\n",
              "      <th>mean</th>\n",
              "      <td>-1.194707</td>\n",
              "      <td>2.706383</td>\n",
              "    </tr>\n",
              "    <tr>\n",
              "      <th>std</th>\n",
              "      <td>0.071494</td>\n",
              "      <td>0.124896</td>\n",
              "    </tr>\n",
              "    <tr>\n",
              "      <th>min</th>\n",
              "      <td>-1.332285</td>\n",
              "      <td>2.232996</td>\n",
              "    </tr>\n",
              "    <tr>\n",
              "      <th>25%</th>\n",
              "      <td>-1.247630</td>\n",
              "      <td>2.688420</td>\n",
              "    </tr>\n",
              "    <tr>\n",
              "      <th>50%</th>\n",
              "      <td>-1.195351</td>\n",
              "      <td>2.707570</td>\n",
              "    </tr>\n",
              "    <tr>\n",
              "      <th>75%</th>\n",
              "      <td>-1.151914</td>\n",
              "      <td>2.733197</td>\n",
              "    </tr>\n",
              "    <tr>\n",
              "      <th>max</th>\n",
              "      <td>-1.024766</td>\n",
              "      <td>3.025715</td>\n",
              "    </tr>\n",
              "  </tbody>\n",
              "</table>\n",
              "</div>"
            ],
            "text/plain": [
              "       var_dis_cap  cycle_life\n",
              "count    49.000000   49.000000\n",
              "mean     -1.194707    2.706383\n",
              "std       0.071494    0.124896\n",
              "min      -1.332285    2.232996\n",
              "25%      -1.247630    2.688420\n",
              "50%      -1.195351    2.707570\n",
              "75%      -1.151914    2.733197\n",
              "max      -1.024766    3.025715"
            ]
          },
          "execution_count": 5,
          "metadata": {},
          "output_type": "execute_result"
        }
      ],
      "source": [
        "batch2 = pd.read_csv('cl_variance_batch2.csv')\n",
        "batch2 = batch2[['name', 'var_dis_cap', 'cycle_life']]\n",
        "\n",
        "# deleted 2 outliers \n",
        "# batch2 = batch2[batch2['var_dis_cap'] >(-1.3)]  \n",
        "# batch2 = batch2[batch2['var_dis_cap'] > (-1.145)]\n",
        "batch2['class'] = batch2['cycle_life'].apply(lambda x: 'high' if x>=2.933740  else 'low')\n",
        "                                \n",
        "print(batch2.shape)\n",
        "batch2.describe()"
      ]
    },
    {
      "cell_type": "code",
      "execution_count": null,
      "metadata": {
        "id": "m3ek68I1Wglw"
      },
      "outputs": [],
      "source": [
        "x2 = batch2['var_dis_cap']\n",
        "y2 = batch2['class']\n",
        "# plt.figure(figsize=(20,10))\n",
        "# plt.scatter(x2, y2)\n",
        "\n",
        "# z2 = np.polyfit(x2, y2, 1)\n",
        "# p2 = np.poly1d(z2)\n",
        "\n",
        "# print(p2) #trendline 0.782 x + 3.636 for batch 2 after removing \n",
        "\n",
        "# plt.plot(x2,p2(x2),\"r--\")\n",
        "# plt.grid(b=True, which='major', color='#666666', linestyle='-')\n",
        "# plt.show()"
      ]
    },
    {
      "cell_type": "markdown",
      "metadata": {
        "id": "_k6-xqf_Wgly"
      },
      "source": [
        "# batch 3"
      ]
    },
    {
      "cell_type": "code",
      "execution_count": null,
      "metadata": {
        "id": "tNGtpoAxWgly",
        "outputId": "da627446-578a-4de3-9a17-5f3724599820"
      },
      "outputs": [
        {
          "name": "stdout",
          "output_type": "stream",
          "text": [
            "(45, 4)\n"
          ]
        },
        {
          "data": {
            "text/html": [
              "<div>\n",
              "<style scoped>\n",
              "    .dataframe tbody tr th:only-of-type {\n",
              "        vertical-align: middle;\n",
              "    }\n",
              "\n",
              "    .dataframe tbody tr th {\n",
              "        vertical-align: top;\n",
              "    }\n",
              "\n",
              "    .dataframe thead th {\n",
              "        text-align: right;\n",
              "    }\n",
              "</style>\n",
              "<table border=\"1\" class=\"dataframe\">\n",
              "  <thead>\n",
              "    <tr style=\"text-align: right;\">\n",
              "      <th></th>\n",
              "      <th>var_dis_cap</th>\n",
              "      <th>cycle_life</th>\n",
              "    </tr>\n",
              "  </thead>\n",
              "  <tbody>\n",
              "    <tr>\n",
              "      <th>count</th>\n",
              "      <td>45.000000</td>\n",
              "      <td>45.000000</td>\n",
              "    </tr>\n",
              "    <tr>\n",
              "      <th>mean</th>\n",
              "      <td>-1.024314</td>\n",
              "      <td>3.019002</td>\n",
              "    </tr>\n",
              "    <tr>\n",
              "      <th>std</th>\n",
              "      <td>0.086057</td>\n",
              "      <td>0.133409</td>\n",
              "    </tr>\n",
              "    <tr>\n",
              "      <th>min</th>\n",
              "      <td>-1.201929</td>\n",
              "      <td>2.733197</td>\n",
              "    </tr>\n",
              "    <tr>\n",
              "      <th>25%</th>\n",
              "      <td>-1.080445</td>\n",
              "      <td>2.918030</td>\n",
              "    </tr>\n",
              "    <tr>\n",
              "      <th>50%</th>\n",
              "      <td>-1.019973</td>\n",
              "      <td>3.003891</td>\n",
              "    </tr>\n",
              "    <tr>\n",
              "      <th>75%</th>\n",
              "      <td>-0.983341</td>\n",
              "      <td>3.062958</td>\n",
              "    </tr>\n",
              "    <tr>\n",
              "      <th>max</th>\n",
              "      <td>-0.756946</td>\n",
              "      <td>3.349860</td>\n",
              "    </tr>\n",
              "  </tbody>\n",
              "</table>\n",
              "</div>"
            ],
            "text/plain": [
              "       var_dis_cap  cycle_life\n",
              "count    45.000000   45.000000\n",
              "mean     -1.024314    3.019002\n",
              "std       0.086057    0.133409\n",
              "min      -1.201929    2.733197\n",
              "25%      -1.080445    2.918030\n",
              "50%      -1.019973    3.003891\n",
              "75%      -0.983341    3.062958\n",
              "max      -0.756946    3.349860"
            ]
          },
          "execution_count": 7,
          "metadata": {},
          "output_type": "execute_result"
        }
      ],
      "source": [
        "batch3 = pd.read_csv('cl_variance_batch3.csv')\n",
        "batch3 = batch3[['name', 'var_dis_cap', 'cycle_life']]\n",
        "\n",
        "# deleted 2 outliers \n",
        "# batch2 = batch2[batch2['var_dis_cap'] <(-0.6)]  \n",
        "# batch2 = batch2[batch2['var_dis_cap'] > (-1.145)]\n",
        "batch3['class'] = batch3['cycle_life'].apply(lambda x: 'high' if x>=2.933740  else 'low')\n",
        "                     \n",
        "print(batch3.shape)\n",
        "batch3.describe()"
      ]
    },
    {
      "cell_type": "code",
      "execution_count": null,
      "metadata": {
        "id": "f5NsxR3GWglz"
      },
      "outputs": [],
      "source": [
        "x3 = batch3['var_dis_cap']\n",
        "y3 = batch3['class']\n",
        "# plt.figure(figsize=(20,10))\n",
        "# plt.scatter(x3, y3)\n",
        "\n",
        "# z3 = np.polyfit(x3, y3, 1)\n",
        "# p3 = np.poly1d(z3)\n",
        "\n",
        "# print(p3) #trendline 0.8893 x + 3.832 for batch 1 after removing \n",
        "\n",
        "# plt.plot(x3,p3(x3),\"r--\")\n",
        "# plt.grid(b=True, which='major', color='#666666', linestyle='-')\n",
        "# plt.show()\n"
      ]
    },
    {
      "cell_type": "markdown",
      "metadata": {
        "id": "CafwdIUyWgl1"
      },
      "source": [
        "# batch 2 + batch 3"
      ]
    },
    {
      "cell_type": "code",
      "execution_count": null,
      "metadata": {
        "id": "wuLLqHekWgl1",
        "outputId": "ad235e36-b9ab-431e-c34d-5b4f351cfcd4"
      },
      "outputs": [
        {
          "name": "stdout",
          "output_type": "stream",
          "text": [
            "(94, 4)\n"
          ]
        },
        {
          "data": {
            "text/html": [
              "<div>\n",
              "<style scoped>\n",
              "    .dataframe tbody tr th:only-of-type {\n",
              "        vertical-align: middle;\n",
              "    }\n",
              "\n",
              "    .dataframe tbody tr th {\n",
              "        vertical-align: top;\n",
              "    }\n",
              "\n",
              "    .dataframe thead th {\n",
              "        text-align: right;\n",
              "    }\n",
              "</style>\n",
              "<table border=\"1\" class=\"dataframe\">\n",
              "  <thead>\n",
              "    <tr style=\"text-align: right;\">\n",
              "      <th></th>\n",
              "      <th>var_dis_cap</th>\n",
              "      <th>cycle_life</th>\n",
              "    </tr>\n",
              "  </thead>\n",
              "  <tbody>\n",
              "    <tr>\n",
              "      <th>count</th>\n",
              "      <td>94.000000</td>\n",
              "      <td>94.000000</td>\n",
              "    </tr>\n",
              "    <tr>\n",
              "      <th>mean</th>\n",
              "      <td>-1.113136</td>\n",
              "      <td>2.856041</td>\n",
              "    </tr>\n",
              "    <tr>\n",
              "      <th>std</th>\n",
              "      <td>0.116040</td>\n",
              "      <td>0.202786</td>\n",
              "    </tr>\n",
              "    <tr>\n",
              "      <th>min</th>\n",
              "      <td>-1.332285</td>\n",
              "      <td>2.232996</td>\n",
              "    </tr>\n",
              "    <tr>\n",
              "      <th>25%</th>\n",
              "      <td>-1.201530</td>\n",
              "      <td>2.706290</td>\n",
              "    </tr>\n",
              "    <tr>\n",
              "      <th>50%</th>\n",
              "      <td>-1.125780</td>\n",
              "      <td>2.844022</td>\n",
              "    </tr>\n",
              "    <tr>\n",
              "      <th>75%</th>\n",
              "      <td>-1.026476</td>\n",
              "      <td>3.003135</td>\n",
              "    </tr>\n",
              "    <tr>\n",
              "      <th>max</th>\n",
              "      <td>-0.756946</td>\n",
              "      <td>3.349860</td>\n",
              "    </tr>\n",
              "  </tbody>\n",
              "</table>\n",
              "</div>"
            ],
            "text/plain": [
              "       var_dis_cap  cycle_life\n",
              "count    94.000000   94.000000\n",
              "mean     -1.113136    2.856041\n",
              "std       0.116040    0.202786\n",
              "min      -1.332285    2.232996\n",
              "25%      -1.201530    2.706290\n",
              "50%      -1.125780    2.844022\n",
              "75%      -1.026476    3.003135\n",
              "max      -0.756946    3.349860"
            ]
          },
          "execution_count": 11,
          "metadata": {},
          "output_type": "execute_result"
        }
      ],
      "source": [
        "# to append df2 at the end of df1 dataframe \n",
        "batch23 = batch2.append(batch3) \n",
        "batch23 = batch23[['name', 'var_dis_cap', 'cycle_life']]\n",
        "batch23['class'] = batch23['cycle_life'].apply(lambda x: 'high' if x>=2.933740  else 'low')\n",
        "\n",
        "# deleted 2 outliers \n",
        "# batch2 = batch2[batch2['var_dis_cap'] <(-0.6)]  \n",
        "# batch2 = batch2[batch2['var_dis_cap'] > (-1.145)]\n",
        "                                \n",
        "print(batch23.shape)\n",
        "batch23.describe()"
      ]
    },
    {
      "cell_type": "code",
      "execution_count": null,
      "metadata": {
        "id": "6Jek5TJQWgl2"
      },
      "outputs": [],
      "source": [
        "x5 = batch23['var_dis_cap']\n",
        "y5 = batch23['class']\n",
        "# plt.figure(figsize=(20,10))\n",
        "# plt.scatter(x5, y5)\n",
        "\n",
        "# z5 = np.polyfit(x5, y5, 1)\n",
        "# p5 = np.poly1d(z5)\n",
        "\n",
        "# print(p5) #trendline 0.8893 x + 3.832 for batch 1 after removing \n",
        "\n",
        "# plt.plot(x5,p5(x5),\"r--\")\n",
        "# plt.grid(b=True, which='major', color='#666666', linestyle='-')\n",
        "# plt.show()"
      ]
    },
    {
      "cell_type": "markdown",
      "metadata": {
        "id": "lNdhtavpWgl3"
      },
      "source": [
        "# training"
      ]
    },
    {
      "cell_type": "code",
      "execution_count": null,
      "metadata": {
        "id": "zSOQAmJyWgl4"
      },
      "outputs": [],
      "source": [
        "X_train, X_test, y_train, y_test = train_test_split(x5.values.reshape(-1,1), y5.values.reshape(-1,1), test_size=0.2, random_state=42)"
      ]
    },
    {
      "cell_type": "markdown",
      "metadata": {
        "id": "oAk-MbX3Wgl4"
      },
      "source": [
        "# LOGISTIC "
      ]
    },
    {
      "cell_type": "code",
      "execution_count": null,
      "metadata": {
        "id": "PBeu835JWgl4",
        "outputId": "b348363c-a24c-4522-d3d5-7f3af65bdf64"
      },
      "outputs": [
        {
          "name": "stdout",
          "output_type": "stream",
          "text": [
            "              precision    recall  f1-score   support\n",
            "\n",
            "        high       0.00      0.00      0.00         7\n",
            "         low       0.63      1.00      0.77        12\n",
            "\n",
            "   micro avg       0.63      0.63      0.63        19\n",
            "   macro avg       0.32      0.50      0.39        19\n",
            "weighted avg       0.40      0.63      0.49        19\n",
            "\n"
          ]
        },
        {
          "name": "stderr",
          "output_type": "stream",
          "text": [
            "C:\\Users\\Lithion Power\\Anaconda3\\lib\\site-packages\\sklearn\\linear_model\\logistic.py:433: FutureWarning: Default solver will be changed to 'lbfgs' in 0.22. Specify a solver to silence this warning.\n",
            "  FutureWarning)\n",
            "C:\\Users\\Lithion Power\\Anaconda3\\lib\\site-packages\\sklearn\\utils\\validation.py:761: DataConversionWarning: A column-vector y was passed when a 1d array was expected. Please change the shape of y to (n_samples, ), for example using ravel().\n",
            "  y = column_or_1d(y, warn=True)\n",
            "C:\\Users\\Lithion Power\\Anaconda3\\lib\\site-packages\\sklearn\\metrics\\classification.py:1143: UndefinedMetricWarning: Precision and F-score are ill-defined and being set to 0.0 in labels with no predicted samples.\n",
            "  'precision', 'predicted', average, warn_for)\n"
          ]
        }
      ],
      "source": [
        "logmodel = LogisticRegression()\n",
        "logmodel.fit(X_train,y_train)\n",
        "y_pred_lr = logmodel.predict(X_test)\n",
        "print(classification_report(y_test,y_pred_lr))"
      ]
    },
    {
      "cell_type": "markdown",
      "metadata": {
        "id": "HwkkOK_YWgl5"
      },
      "source": [
        "# Decision Tree "
      ]
    },
    {
      "cell_type": "code",
      "execution_count": null,
      "metadata": {
        "id": "OP0mgptTWgl6",
        "outputId": "fb7107af-e242-438c-a2df-15d8199420f6"
      },
      "outputs": [
        {
          "name": "stdout",
          "output_type": "stream",
          "text": [
            "Accuracy: 0.6842105263157895\n",
            "              precision    recall  f1-score   support\n",
            "\n",
            "        high       0.60      0.43      0.50         7\n",
            "         low       0.71      0.83      0.77        12\n",
            "\n",
            "   micro avg       0.68      0.68      0.68        19\n",
            "   macro avg       0.66      0.63      0.63        19\n",
            "weighted avg       0.67      0.68      0.67        19\n",
            "\n"
          ]
        }
      ],
      "source": [
        "# Create Decision Tree classifer object\n",
        "dt = DecisionTreeClassifier()\n",
        "\n",
        "# Train Decision Tree Classifer\n",
        "dt.fit(X_train,y_train)\n",
        "\n",
        "#Predict the response for test dataset\n",
        "y_pred_dt = dt.predict(X_test)\n",
        "\n",
        "# Model Accuracy, how often is the classifier correct?\n",
        "print(\"Accuracy:\",metrics.accuracy_score(y_test, y_pred_dt))\n",
        "\n",
        "print(classification_report(y_test,y_pred_dt))"
      ]
    },
    {
      "cell_type": "markdown",
      "metadata": {
        "id": "_-aROZFHWgl6"
      },
      "source": [
        "# Random Forest "
      ]
    },
    {
      "cell_type": "code",
      "execution_count": null,
      "metadata": {
        "id": "Aj4BnDsGWgl7",
        "outputId": "00508c58-5e98-43c7-caee-67f9285b7cff"
      },
      "outputs": [
        {
          "name": "stdout",
          "output_type": "stream",
          "text": [
            "Accuracy: 0.6842105263157895\n",
            "              precision    recall  f1-score   support\n",
            "\n",
            "        high       0.60      0.43      0.50         7\n",
            "         low       0.71      0.83      0.77        12\n",
            "\n",
            "   micro avg       0.68      0.68      0.68        19\n",
            "   macro avg       0.66      0.63      0.63        19\n",
            "weighted avg       0.67      0.68      0.67        19\n",
            "\n"
          ]
        },
        {
          "name": "stderr",
          "output_type": "stream",
          "text": [
            "C:\\Users\\Lithion Power\\Anaconda3\\lib\\site-packages\\ipykernel_launcher.py:6: DataConversionWarning: A column-vector y was passed when a 1d array was expected. Please change the shape of y to (n_samples,), for example using ravel().\n",
            "  \n"
          ]
        }
      ],
      "source": [
        "from sklearn.metrics import roc_auc_score\n",
        "\n",
        "# Create the model with 100 trees\n",
        "rfc = RandomForestClassifier(n_estimators=100, bootstrap = True, max_features = 'sqrt')\n",
        "# Fit on training data\n",
        "rfc.fit(X_train,y_train)\n",
        "\n",
        "# Actual class predictions\n",
        "y_pred_rf = rfc.predict(X_test)\n",
        "\n",
        "# # Probabilities for each class\n",
        "# rf_probs = rfc.predict_proba(X_test)[:, 1]\n",
        "\n",
        "# # Calculate roc auc\n",
        "# print(\"roc_value:\", roc_auc_score(y_test, rf_probs)\n",
        "\n",
        "# Model Accuracy, how often is the classifier correct?\n",
        "print(\"Accuracy:\",metrics.accuracy_score(y_test, y_pred_rf))\n",
        "\n",
        "print(classification_report(y_test,y_pred_rf))"
      ]
    },
    {
      "cell_type": "markdown",
      "metadata": {
        "id": "81pN-XlsWgl7"
      },
      "source": [
        "# Naives Bayes "
      ]
    },
    {
      "cell_type": "code",
      "execution_count": null,
      "metadata": {
        "id": "hiVoj77HWgl8",
        "outputId": "ae50c251-0497-49bd-e1d7-c04c743e5072"
      },
      "outputs": [
        {
          "name": "stdout",
          "output_type": "stream",
          "text": [
            "Accuracy: 0.7894736842105263\n",
            "              precision    recall  f1-score   support\n",
            "\n",
            "        high       0.80      0.57      0.67         7\n",
            "         low       0.79      0.92      0.85        12\n",
            "\n",
            "   micro avg       0.79      0.79      0.79        19\n",
            "   macro avg       0.79      0.74      0.76        19\n",
            "weighted avg       0.79      0.79      0.78        19\n",
            "\n"
          ]
        },
        {
          "name": "stderr",
          "output_type": "stream",
          "text": [
            "C:\\Users\\Lithion Power\\Anaconda3\\lib\\site-packages\\sklearn\\utils\\validation.py:761: DataConversionWarning: A column-vector y was passed when a 1d array was expected. Please change the shape of y to (n_samples, ), for example using ravel().\n",
            "  y = column_or_1d(y, warn=True)\n"
          ]
        }
      ],
      "source": [
        "#Import Gaussian Naive Bayes model\n",
        "from sklearn.naive_bayes import GaussianNB\n",
        "\n",
        "#Create a Gaussian Classifier\n",
        "gnb = GaussianNB()\n",
        "\n",
        "#Train the model using the training sets\n",
        "gnb.fit(X_train, y_train)\n",
        "\n",
        "#Predict the response for test dataset\n",
        "y_pred_nb = gnb.predict(X_test)\n",
        "\n",
        "# Model Accuracy, how often is the classifier correct?\n",
        "print(\"Accuracy:\",metrics.accuracy_score(y_test, y_pred_nb))\n",
        "\n",
        "\n",
        "print(classification_report(y_test,y_pred_nb))"
      ]
    },
    {
      "cell_type": "markdown",
      "metadata": {
        "id": "QKobqvfFWgl8"
      },
      "source": [
        "# predict 1"
      ]
    },
    {
      "cell_type": "code",
      "execution_count": null,
      "metadata": {
        "id": "EyOwQFIBWgl8"
      },
      "outputs": [],
      "source": [
        "y1_pred_lr = logmodel.predict(x1.values.reshape(-1,1)) \n",
        "y1_pred_dt = dt.predict(x1.values.reshape(-1,1)) \n",
        "\n",
        "y1_pred_rf = rfc.predict(x1.values.reshape(-1,1)) \n",
        "y1_pred_nb = gnb.predict(x1.values.reshape(-1,1))"
      ]
    },
    {
      "cell_type": "code",
      "execution_count": null,
      "metadata": {
        "id": "SYJpJ7qiWgl8",
        "outputId": "95d3fe24-7faa-4353-9b7d-b75ad71ee00f"
      },
      "outputs": [
        {
          "name": "stdout",
          "output_type": "stream",
          "text": [
            "Accuracy of LR: 0.5\n",
            "Accuracy of DT: 0.5434782608695652\n",
            "Accuracy of RF: 0.5434782608695652\n",
            "Accuracy of NB: 0.5434782608695652\n"
          ]
        }
      ],
      "source": [
        "# Model Accuracy, how often is the classifier correct?\n",
        "\n",
        "print(\"Accuracy of LR:\",metrics.accuracy_score(y1, y1_pred_lr))\n",
        "print(\"Accuracy of DT:\",metrics.accuracy_score(y1, y1_pred_dt))\n",
        "print(\"Accuracy of RF:\",metrics.accuracy_score(y1, y1_pred_rf))\n",
        "print(\"Accuracy of NB:\",metrics.accuracy_score(y1, y1_pred_nb))"
      ]
    },
    {
      "cell_type": "code",
      "execution_count": null,
      "metadata": {
        "id": "h-YFJ-IlWgl9",
        "outputId": "e01ca48b-e58f-49f7-ebea-e2dae478501b"
      },
      "outputs": [
        {
          "name": "stdout",
          "output_type": "stream",
          "text": [
            "classification rpeort of LR:               precision    recall  f1-score   support\n",
            "\n",
            "        high       0.00      0.00      0.00        23\n",
            "         low       0.50      1.00      0.67        23\n",
            "\n",
            "   micro avg       0.50      0.50      0.50        46\n",
            "   macro avg       0.25      0.50      0.33        46\n",
            "weighted avg       0.25      0.50      0.33        46\n",
            "\n",
            "classification rpeort of DT:               precision    recall  f1-score   support\n",
            "\n",
            "        high       0.53      0.70      0.60        23\n",
            "         low       0.56      0.39      0.46        23\n",
            "\n",
            "   micro avg       0.54      0.54      0.54        46\n",
            "   macro avg       0.55      0.54      0.53        46\n",
            "weighted avg       0.55      0.54      0.53        46\n",
            "\n",
            "classification rpeort of RF:               precision    recall  f1-score   support\n",
            "\n",
            "        high       0.53      0.70      0.60        23\n",
            "         low       0.56      0.39      0.46        23\n",
            "\n",
            "   micro avg       0.54      0.54      0.54        46\n",
            "   macro avg       0.55      0.54      0.53        46\n",
            "weighted avg       0.55      0.54      0.53        46\n",
            "\n",
            "classification rpeort of NB:               precision    recall  f1-score   support\n",
            "\n",
            "        high       0.53      0.70      0.60        23\n",
            "         low       0.56      0.39      0.46        23\n",
            "\n",
            "   micro avg       0.54      0.54      0.54        46\n",
            "   macro avg       0.55      0.54      0.53        46\n",
            "weighted avg       0.55      0.54      0.53        46\n",
            "\n"
          ]
        },
        {
          "name": "stderr",
          "output_type": "stream",
          "text": [
            "C:\\Users\\Lithion Power\\Anaconda3\\lib\\site-packages\\sklearn\\metrics\\classification.py:1143: UndefinedMetricWarning: Precision and F-score are ill-defined and being set to 0.0 in labels with no predicted samples.\n",
            "  'precision', 'predicted', average, warn_for)\n"
          ]
        }
      ],
      "source": [
        "# Model Accuracy, how often is the classifier correct?\n",
        "\n",
        "print(\"classification rpeort of LR:\", classification_report(y1,y1_pred_lr))\n",
        "print(\"classification rpeort of DT:\", classification_report(y1,y1_pred_dt))\n",
        "print(\"classification rpeort of RF:\", classification_report(y1,y1_pred_rf))\n",
        "print(\"classification rpeort of NB:\", classification_report(y1,y1_pred_nb))"
      ]
    },
    {
      "cell_type": "code",
      "execution_count": null,
      "metadata": {
        "id": "j5eGqW4rWgl9"
      },
      "outputs": [],
      "source": [
        ""
      ]
    },
    {
      "cell_type": "code",
      "execution_count": null,
      "metadata": {
        "id": "4Wf4Hoo5Wgl-"
      },
      "outputs": [],
      "source": [
        ""
      ]
    },
    {
      "cell_type": "code",
      "execution_count": null,
      "metadata": {
        "id": "TkebmI2DWgl-"
      },
      "outputs": [],
      "source": [
        ""
      ]
    }
  ],
  "metadata": {
    "kernelspec": {
      "display_name": "Python 3",
      "language": "python",
      "name": "python3"
    },
    "language_info": {
      "codemirror_mode": {
        "name": "ipython",
        "version": 3
      },
      "file_extension": ".py",
      "mimetype": "text/x-python",
      "name": "python",
      "nbconvert_exporter": "python",
      "pygments_lexer": "ipython3",
      "version": "3.6.6"
    },
    "colab": {
      "name": "Classification_part 1_Sept28.ipynb",
      "provenance": []
    }
  },
  "nbformat": 4,
  "nbformat_minor": 0
}