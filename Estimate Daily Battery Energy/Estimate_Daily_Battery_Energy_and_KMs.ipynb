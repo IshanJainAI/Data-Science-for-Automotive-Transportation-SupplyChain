{
  "cells": [
    {
      "cell_type": "code",
      "execution_count": null,
      "metadata": {
        "id": "azXJR3TyeThd"
      },
      "outputs": [],
      "source": [
        "import pandas as pd\n",
        "import numpy as np\n",
        "from datetime import datetime, timedelta\n",
        "import openpyxl\n",
        "import pprint"
      ]
    },
    {
      "cell_type": "code",
      "execution_count": null,
      "metadata": {
        "id": "XiooI-W2eThh"
      },
      "outputs": [],
      "source": [
        "df = pd.read_excel(\"B001_Lovely.xlsx\")\n",
        "\n",
        "df1 = df.iloc[:,0:12] # Remember that Python does not slice inclusive of the ending index.\n",
        "\n",
        "df1.columns"
      ]
    },
    {
      "cell_type": "code",
      "execution_count": null,
      "metadata": {
        "id": "XuWnrnEGeThi"
      },
      "outputs": [],
      "source": [
        "df1['cap_idt'] = df1['time_diff']* df1['current']*(1/3600) \n",
        "df1['energy'] = df1['volt']* df1['cap_idt']\n",
        "\n",
        "km_trav = df1['km_interval'].sum()\n",
        "df1['state_energy'] = df1['energy']* df1['state_id']\n",
        "disch_energy = sum(i for i in df1.state_energy if i < 0)\n",
        "disch_energy_per_km = (-1)*disch_energy/km_trav\n",
        "\n",
        "print(km_trav)\n",
        "print(disch_energy)\n",
        "print(disch_energy_per_km)"
      ]
    },
    {
      "cell_type": "code",
      "execution_count": null,
      "metadata": {
        "id": "S8gLRwxDeThj"
      },
      "outputs": [],
      "source": [
        "start_date = '8/01/2018'\n",
        "end_date = '8/02/2018'\n",
        "\n",
        "df1 = df1[(df1['date'] >= start_date) & (df1['date'] < end_date)]\n",
        "\n",
        "df1['cap_idt'] = df1['time_diff']* df1['current']*(1/3600) \n",
        "df1['energy'] = df1['volt']* df1['cap_idt']\n",
        "km_trav = df1['km_interval'].sum()\n",
        "df1['state_energy'] = df1['energy']* df1['state_id']\n",
        "disch_energy = sum(i for i in df1.state_energy if i < 0)\n",
        "disch_energy_per_km = (-1)*disch_energy/km_trav\n",
        "print(disch_energy_per_km)"
      ]
    }
  ],
  "metadata": {
    "kernelspec": {
      "display_name": "Python 3",
      "language": "python",
      "name": "python3"
    },
    "language_info": {
      "codemirror_mode": {
        "name": "ipython",
        "version": 3
      },
      "file_extension": ".py",
      "mimetype": "text/x-python",
      "name": "python",
      "nbconvert_exporter": "python",
      "pygments_lexer": "ipython3",
      "version": "3.6.5"
    },
    "colab": {
      "name": "Estimate Daily Battery Energy and KMs.ipynb",
      "provenance": []
    }
  },
  "nbformat": 4,
  "nbformat_minor": 0
}